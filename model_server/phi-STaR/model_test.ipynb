{
 "cells": [
  {
   "cell_type": "code",
   "execution_count": null,
   "id": "412b452e",
   "metadata": {},
   "outputs": [
    {
     "name": "stderr",
     "output_type": "stream",
     "text": [
      "/home/nclabterm1/refresh/.conda/lib/python3.10/site-packages/tqdm/auto.py:21: TqdmWarning: IProgress not found. Please update jupyter and ipywidgets. See https://ipywidgets.readthedocs.io/en/stable/user_install.html\n",
      "  from .autonotebook import tqdm as notebook_tqdm\n"
     ]
    }
   ],
   "source": [
    "from datasets import load_from_disk, concatenate_datasets\n",
    "\n",
    "ds_korean = load_from_disk(\"../dataset/분류 모델 용/korean\")[\"test\"].select(range(124))\n",
    "ds_cloth = load_from_disk(\"../dataset/분류 모델 용/cloth\")[\"test\"].select(range(476))\n",
    "ds_race_middle_long = load_from_disk(\"../dataset/분류 모델 용/race_middle_long\")[\"test\"].select(range(175))\n",
    "ds_race_middle_short = load_from_disk(\"../dataset/분류 모델 용/race_middle_short\")[\"test\"].select(range(175))\n",
    "ds_race_high_long = load_from_disk(\"../dataset/분류 모델 용/race_high_long\")[\"test\"].select(range(525))\n",
    "ds_race_high_short = load_from_disk(\"../dataset/분류 모델 용/race_high_short\")[\"test\"].select(range(525))"
   ]
  },
  {
   "cell_type": "code",
   "execution_count": 2,
   "id": "96e21427",
   "metadata": {},
   "outputs": [],
   "source": [
    "import sys\n",
    "sys.path.append('..')\n",
    "\n",
    "from huggingface_hub import login\n",
    "import torch\n",
    "import tqdm\n",
    "from transformers import AutoTokenizer, AutoModelForCausalLM, BitsAndBytesConfig\n",
    "from peft import LoraConfig\n",
    "from trl import SFTTrainer, SFTConfig"
   ]
  },
  {
   "cell_type": "code",
   "execution_count": null,
   "id": "55847404",
   "metadata": {},
   "outputs": [
    {
     "name": "stderr",
     "output_type": "stream",
     "text": [
      "Loading checkpoint shards: 100%|██████████| 2/2 [00:03<00:00,  1.98s/it]\n"
     ]
    }
   ],
   "source": [
    "from dotenv import load_dotenv\n",
    "\n",
    "load_dotenv()\n",
    "token = os.getenv(\"HUGGINGFACE_TOKEN\")\n",
    "\n",
    "model_id = \"./output/0\"\n",
    "# model_id = \"google/gemma-3-4b-it\"\n",
    "\n",
    "torch_dtype = torch.bfloat16\n",
    "\n",
    "login(token)\n",
    "\n",
    "model_kwargs = dict(\n",
    "    attn_implementation=\"eager\",\n",
    "    torch_dtype=torch_dtype, \n",
    "    device_map=\"auto\", \n",
    ")\n",
    "\n",
    "model_kwargs[\"quantization_config\"] = BitsAndBytesConfig(\n",
    "    load_in_4bit=True,\n",
    "    bnb_4bit_use_double_quant=True,\n",
    "    bnb_4bit_quant_type='nf4',\n",
    "    bnb_4bit_compute_dtype=model_kwargs['torch_dtype'],\n",
    "    bnb_4bit_quant_storage=model_kwargs['torch_dtype'],\n",
    ")\n",
    "\n",
    "args = SFTConfig(\n",
    "    output_dir=\"output/results\",         \n",
    "    packing=True,             \n",
    "    gradient_accumulation_steps=4,    \n",
    "    gradient_checkpointing=True,       \n",
    "    optim=\"adamw_torch_fused\",      \n",
    "    logging_steps=10,                   \n",
    "    save_strategy=\"epoch\",\n",
    "    fp16=True if torch_dtype == torch.float16 else False,  \n",
    "    bf16=True if torch_dtype == torch.bfloat16 else False, \n",
    "\n",
    "    #eval_strategy=\"epoch\",\n",
    "    #per_device_eval_batch_size=6,\n",
    "\n",
    "    lr_scheduler_type=\"constant\",         \n",
    "    push_to_hub=False,                     \n",
    "    report_to=\"tensorboard\",         \n",
    "    dataset_kwargs={\n",
    "        \"add_special_tokens\": False,\n",
    "        \"append_concat_token\": True,\n",
    "        }\n",
    ")\n",
    "\n",
    "model = AutoModelForCausalLM.from_pretrained(model_id, **model_kwargs)\n",
    "tokenizer = AutoTokenizer.from_pretrained(model_id)"
   ]
  },
  {
   "cell_type": "code",
   "execution_count": null,
   "id": "8383825c",
   "metadata": {},
   "outputs": [],
   "source": [
    "import re\n",
    "import torch\n",
    "from transformers import StoppingCriteria, StoppingCriteriaList\n",
    "\n",
    "class StopOnAnswerIs(StoppingCriteria):\n",
    "    def __init__(self, tokenizer, pattern=r\"answer\\s*is\\s*:?\\s*$\", lookback_tokens=64):\n",
    "        super().__init__()\n",
    "        self.tokenizer = tokenizer\n",
    "        self.regex = re.compile(pattern, flags=re.IGNORECASE)\n",
    "        self.lookback = lookback_tokens\n",
    "\n",
    "    def __call__(self, input_ids: torch.LongTensor, scores: torch.FloatTensor, **kwargs) -> bool:\n",
    "        tail = input_ids[0, -self.lookback:].tolist()\n",
    "        text = self.tokenizer.decode(tail, skip_special_tokens=True)\n",
    "        return bool(self.regex.search(text))\n"
   ]
  },
  {
   "cell_type": "code",
   "execution_count": null,
   "id": "41ff3483",
   "metadata": {},
   "outputs": [
    {
     "name": "stderr",
     "output_type": "stream",
     "text": [
      "The attention mask is not set and cannot be inferred from input because pad token is same as eos token. As a consequence, you may observe unexpected behavior. Please pass your input's `attention_mask` to obtain reliable results.\n"
     ]
    },
    {
     "name": "stdout",
     "output_type": "stream",
     "text": [
      "[{'role': 'system', 'content': \"You are a skilled English test-solving tutor.\\nIn the passage, any text referred to as 'underlined' is shown in bold. Example: **Was Underline**\\nRead the problem and reason step by step.\\nUse no more than 5 steps, shorter is better.\\nmax 50 characters per step, and write the final answer at the end.\"}, {'role': 'user', 'content': '\\n[QUESTION]\\n다음 글의 요지로 가장 적절한 것은?\\n\\n[PASSAGE]\\nPeople sometimes make downward social comparisons ―\\ncomparing themselves to inferior or worse-off others ― to feel\\nbetter about themselves. This is self-enhancement at work.\\nBut what happens when the only available comparison target\\nwe have is superior or better off than we are? Can\\nself-enhancement motives still be served in such situations?\\nYes, they can, as captured by the self-evaluation maintenance\\nmodel. According to this theory, we shift between two\\nprocesses ― reflection and comparison ― in a way that lets us\\nmaintain favorable self-views. In areas that are not especially\\nrelevant to our self-definition, we engage in reflection,\\nwhereby we flatter ourselves by association with others’\\naccomplishments. Suppose you care very little about your\\nown athletic skills, but when your friend scores the winning\\ngoal during a critical soccer match, you beam with pride,\\nexperience a boost to your self-esteem, and take delight in\\nher victory celebrations as if, by association, it were your\\nvictory too.\\n\\n\\n[OPTIONS]\\nA. 타인과의 비교를 통해 자신에 대한 객관적 평가를 할 수 있다.\\nB. 자기 분야와 관련 없는 사람들의 성공도 축하해 줄 필요가 있다.\\nC. 성취도가 낮은 사람들과의 비교는 자기발전에 도움이 되지 않는다.\\nD. 사람들은 성취도가 높은 사람과 자신을 비교하지 않는 경향이 있다.\\nE. 타인의 성취를 자신과 연결하여 긍정적인 자아상을 유지할 수 있다.\\n\\n[ANSWER]\\n'}]\n",
      "=== GENERATED UNTIL STOP ===\n",
      "1. Identify the main idea: self-enhancement through comparison\n",
      "2. Focus on the relevant part: comparison with superior others\n",
      "3. Eliminate irrelevant options: B, C, D\n",
      "4. Choose the option that best fits the main idea: E\n",
      "answer is\n",
      "\n",
      "=== NEXT-TOKEN SCORES AFTER 'answer is' ===\n",
      "A: logit=+24.2500, logprob=-8.0000, prob=0.0003\n",
      "B: logit=+24.2500, logprob=-8.0000, prob=0.0003\n",
      "C: logit=+21.6250, logprob=-10.6250, prob=0.0000\n",
      "D: logit=+22.3750, logprob=-9.8750, prob=0.0001\n",
      "E: logit=+32.2500, logprob=-0.0007, prob=1.0000\n",
      "\n",
      "Predicted letter: E\n",
      "Real answer is: {'role': 'assistant', 'content': 'E'}\n"
     ]
    }
   ],
   "source": [
    "import build_prompt as bp\n",
    "\n",
    "device = next(model.parameters()).device \n",
    "\n",
    "def safe_letter_token_id(tokenizer, letter: str) -> int:\n",
    "    vocab = tokenizer.get_vocab()\n",
    "    letter = letter.upper()\n",
    "    for tok in (f\"▁{letter}\", f\" {letter}\", letter):\n",
    "        if tok in vocab:\n",
    "            return vocab[tok]\n",
    "    ids = tokenizer.encode(f\" {letter}\", add_special_tokens=False)\n",
    "    if len(ids) == 1:\n",
    "        return ids[0]"
   ]
  },
  {
   "cell_type": "code",
   "execution_count": 6,
   "id": "35b7cfdb",
   "metadata": {},
   "outputs": [],
   "source": [
    "def extract_gold_letter(ex):\n",
    "    return ex[\"content\"]"
   ]
  },
  {
   "cell_type": "code",
   "execution_count": null,
   "id": "f5db0d42",
   "metadata": {},
   "outputs": [],
   "source": [
    "import re, json, datetime\n",
    "from tqdm.auto import tqdm\n",
    "import torch\n",
    "from transformers import StoppingCriteria, StoppingCriteriaList\n",
    "\n",
    "def evaluate_until_answer_is(\n",
    "    ds,\n",
    "    ds_name,\n",
    "    bp,             \n",
    "    model,\n",
    "    tokenizer,\n",
    "    max_items=None,\n",
    "    do_sample=False,    \n",
    "    temperature=0.7,\n",
    "    top_p=0.9,\n",
    "    lookback_tokens=64,\n",
    "    save_results=True,\n",
    "):\n",
    "    device = next(model.parameters()).device\n",
    "    model.eval()\n",
    "\n",
    "    stopper = StoppingCriteriaList([StopOnAnswerIs(tokenizer, lookback_tokens=lookback_tokens)])\n",
    "    option_letters = ['A', 'B', 'C', 'D', 'E']\n",
    "    option_token_ids = [safe_letter_token_id(tokenizer, L) for L in option_letters]\n",
    "\n",
    "    N = len(ds) if max_items is None else min(max_items, len(ds))\n",
    "    correct = 0\n",
    "    evaluated = 0\n",
    "    stopped_cnt = 0\n",
    "    skipped_cnt = 0\n",
    "    results = []\n",
    "\n",
    "    pbar = tqdm(range(N))\n",
    "    for i in pbar:\n",
    "\n",
    "        item = ds[i]\n",
    "        item = bp.create_conversation_for_generate(item)\n",
    "        msgs = item['messages'][:2]\n",
    "        gold = extract_gold_letter(item['messages'][2])\n",
    "\n",
    "        prompt_ids = tokenizer.apply_chat_template(\n",
    "            msgs, add_generation_prompt=True, return_tensors=\"pt\"\n",
    "        ).to(device)\n",
    "\n",
    "        gen_out = model.generate(\n",
    "            prompt_ids,\n",
    "            max_new_tokens=256,\n",
    "            do_sample=do_sample,\n",
    "            temperature=temperature if do_sample else None,\n",
    "            top_p=top_p if do_sample else None,\n",
    "            stopping_criteria=stopper,\n",
    "            return_dict_in_generate=True,\n",
    "            use_cache=True,\n",
    "        )\n",
    "        seq = gen_out.sequences \n",
    "        gen_text = tokenizer.decode(seq[0, prompt_ids.shape[1]:], skip_special_tokens=True)\n",
    "        \n",
    "        is_skipped = False\n",
    "\n",
    "        if not re.search(r\"answer\\s*is\\s*:?\\s*$\", gen_text.strip(), re.IGNORECASE):\n",
    "            skipped_cnt += 1\n",
    "            is_skipped = True\n",
    "        \n",
    "        if is_skipped == False:\n",
    "            stopped_cnt += 1\n",
    "\n",
    "        with torch.inference_mode():\n",
    "            out2 = model(seq.to(device))\n",
    "            next_logits = out2.logits[:, -1, :].squeeze(0) \n",
    "\n",
    "        option_logits = next_logits[option_token_ids]           \n",
    "        option_logprobs = torch.log_softmax(option_logits, dim=0) \n",
    "        option_probs = torch.softmax(option_logits, dim=0)     \n",
    "\n",
    "        probs = option_probs.detach().cpu().float().tolist()\n",
    "        pred_idx = int(torch.argmax(option_probs).item())\n",
    "        pred = option_letters[pred_idx]\n",
    "\n",
    "        if is_skipped == False:\n",
    "            evaluated += 1\n",
    "            \n",
    "        is_correct = (pred == gold)\n",
    "\n",
    "        if is_skipped == False:\n",
    "            correct += int(is_correct)\n",
    "\n",
    "        results.append({\n",
    "            \"index\": i,\n",
    "            \"generated_until_stop\": gen_text,\n",
    "            \"pred\": pred,\n",
    "            \"probs\": {L: float(p) for L, p in zip(option_letters, probs)},\n",
    "            \"gold\": gold,\n",
    "            \"is_correct\": is_correct,\n",
    "            \"is_skipped\": is_skipped\n",
    "        })\n",
    "\n",
    "        pbar.set_postfix(\n",
    "            acc=f\"{(correct/max(1,evaluated))*100:.2f}%\",\n",
    "            stopped=stopped_cnt,\n",
    "            skipped=skipped_cnt\n",
    "        )\n",
    "\n",
    "    final = {\n",
    "        \"model_id\": getattr(model.config, \"name_or_path\", \"unknown\"),\n",
    "        \"num_items_total\": N,\n",
    "        \"num_evaluated\": evaluated,\n",
    "        \"num_stopped\": stopped_cnt,\n",
    "        \"num_skipped\": skipped_cnt,\n",
    "        \"accuracy_no_skipped\": f\"{(correct/max(1,evaluated))*100:.2f}%\",\n",
    "        \"results\": results\n",
    "    }\n",
    "\n",
    "    if save_results:\n",
    "        ts = datetime.datetime.now().strftime(\"%Y%m%d_%H%M%S\")\n",
    "        path = f\"./eval/results_{ds_name}_{ts}.json\"\n",
    "        with open(path, \"w\", encoding=\"utf-8\") as f:\n",
    "            json.dump(final, f, ensure_ascii=False, indent=2)\n",
    "        print(f\"\\nSaved: {path}\")\n",
    "\n",
    "    print(f\"\\nEvaluated {evaluated}/{N} (stopped={stopped_cnt}, skipped={skipped_cnt})\")\n",
    "    print(f\"Accuracy: {final['accuracy_no_skipped']}\")\n",
    "    return final"
   ]
  },
  {
   "cell_type": "code",
   "execution_count": 8,
   "id": "95faed01",
   "metadata": {},
   "outputs": [],
   "source": [
    "ds = [ds_korean, ds_cloth, ds_race_middle_long, ds_race_middle_short, ds_race_high_long, ds_race_high_short]\n",
    "ds_name = [\"ds_korean\", \"ds_cloth\", \"ds_race_middle_long\", \"ds_race_middle_short\", \"ds_race_high_long\", \"ds_race_high_short\"]"
   ]
  },
  {
   "cell_type": "code",
   "execution_count": 9,
   "id": "9ef62210",
   "metadata": {},
   "outputs": [
    {
     "name": "stderr",
     "output_type": "stream",
     "text": [
      "100%|██████████| 124/124 [07:25<00:00,  3.60s/it, acc=74.34%, skipped=11, stopped=113]\n"
     ]
    },
    {
     "name": "stdout",
     "output_type": "stream",
     "text": [
      "\n",
      "Saved: ./eval/results_ds_korean_20250908_014206.json\n",
      "\n",
      "Evaluated 113/124 (stopped=113, skipped=11)\n",
      "Accuracy: 74.34%\n"
     ]
    },
    {
     "name": "stderr",
     "output_type": "stream",
     "text": [
      "100%|██████████| 2000/2000 [1:11:54<00:00,  2.16s/it, acc=56.36%, skipped=41, stopped=1959]\n"
     ]
    },
    {
     "name": "stdout",
     "output_type": "stream",
     "text": [
      "\n",
      "Saved: ./eval/results_ds_cloth_20250908_025401.json\n",
      "\n",
      "Evaluated 1959/2000 (stopped=1959, skipped=41)\n",
      "Accuracy: 56.36%\n"
     ]
    },
    {
     "name": "stderr",
     "output_type": "stream",
     "text": [
      "100%|██████████| 772/772 [29:55<00:00,  2.33s/it, acc=73.95%, skipped=35, stopped=737]\n"
     ]
    },
    {
     "name": "stdout",
     "output_type": "stream",
     "text": [
      "\n",
      "Saved: ./eval/results_ds_race_middle_long_20250908_032357.json\n",
      "\n",
      "Evaluated 737/772 (stopped=737, skipped=35)\n",
      "Accuracy: 73.95%\n"
     ]
    },
    {
     "name": "stderr",
     "output_type": "stream",
     "text": [
      "100%|██████████| 664/664 [23:53<00:00,  2.16s/it, acc=77.40%, skipped=18, stopped=646]\n"
     ]
    },
    {
     "name": "stdout",
     "output_type": "stream",
     "text": [
      "\n",
      "Saved: ./eval/results_ds_race_middle_short_20250908_034750.json\n",
      "\n",
      "Evaluated 646/664 (stopped=646, skipped=18)\n",
      "Accuracy: 77.40%\n"
     ]
    },
    {
     "name": "stderr",
     "output_type": "stream",
     "text": [
      "100%|██████████| 1686/1686 [1:23:43<00:00,  2.98s/it, acc=66.20%, skipped=112, stopped=1574]\n"
     ]
    },
    {
     "name": "stdout",
     "output_type": "stream",
     "text": [
      "\n",
      "Saved: ./eval/results_ds_race_high_long_20250908_051134.json\n",
      "\n",
      "Evaluated 1574/1686 (stopped=1574, skipped=112)\n",
      "Accuracy: 66.20%\n"
     ]
    },
    {
     "name": "stderr",
     "output_type": "stream",
     "text": [
      "100%|██████████| 1812/1812 [1:13:33<00:00,  2.44s/it, acc=68.92%, skipped=65, stopped=1747]"
     ]
    },
    {
     "name": "stdout",
     "output_type": "stream",
     "text": [
      "\n",
      "Saved: ./eval/results_ds_race_high_short_20250908_062508.json\n",
      "\n",
      "Evaluated 1747/1812 (stopped=1747, skipped=65)\n",
      "Accuracy: 68.92%\n"
     ]
    },
    {
     "name": "stderr",
     "output_type": "stream",
     "text": [
      "\n"
     ]
    }
   ],
   "source": [
    "for i in range(6):\n",
    "    evaluate_until_answer_is(\n",
    "        ds[i],\n",
    "        ds_name[i],\n",
    "        bp,\n",
    "        model,\n",
    "        tokenizer,\n",
    "        max_items=None,  \n",
    "        do_sample=False,   \n",
    "        save_results=True,\n",
    "    )"
   ]
  }
 ],
 "metadata": {
  "kernelspec": {
   "display_name": "Python 3",
   "language": "python",
   "name": "python3"
  },
  "language_info": {
   "codemirror_mode": {
    "name": "ipython",
    "version": 3
   },
   "file_extension": ".py",
   "mimetype": "text/x-python",
   "name": "python",
   "nbconvert_exporter": "python",
   "pygments_lexer": "ipython3",
   "version": "3.10.18"
  }
 },
 "nbformat": 4,
 "nbformat_minor": 5
}
