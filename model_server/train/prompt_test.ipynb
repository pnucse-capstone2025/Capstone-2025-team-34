{
 "cells": [
  {
   "cell_type": "code",
   "execution_count": 1,
   "id": "893077b2",
   "metadata": {},
   "outputs": [
    {
     "name": "stderr",
     "output_type": "stream",
     "text": [
      "/home/nclabterm1/refresh/.conda/lib/python3.10/site-packages/tqdm/auto.py:21: TqdmWarning: IProgress not found. Please update jupyter and ipywidgets. See https://ipywidgets.readthedocs.io/en/stable/user_install.html\n",
      "  from .autonotebook import tqdm as notebook_tqdm\n"
     ]
    }
   ],
   "source": [
    "import build_dataset as bd\n",
    "from transformers import AutoTokenizer, AutoModelForCausalLM, BitsAndBytesConfig"
   ]
  },
  {
   "cell_type": "code",
   "execution_count": 2,
   "id": "ee66a7cb",
   "metadata": {},
   "outputs": [
    {
     "name": "stdout",
     "output_type": "stream",
     "text": [
      "[DEBUG] build_dataset: /home/nclabterm1/refresh/train/build_dataset.py\n"
     ]
    }
   ],
   "source": [
    "print(\"[DEBUG] build_dataset:\", bd.__file__)\n",
    "# print([k for k in sys.modules if k.endswith(\"build_dataset\")])\n"
   ]
  },
  {
   "cell_type": "code",
   "execution_count": 3,
   "id": "54b94c46",
   "metadata": {},
   "outputs": [
    {
     "name": "stdout",
     "output_type": "stream",
     "text": [
      "0.21.0\n"
     ]
    }
   ],
   "source": [
    "import trl\n",
    "\n",
    "print(trl.__version__)"
   ]
  },
  {
   "cell_type": "code",
   "execution_count": 11,
   "id": "065e11d0",
   "metadata": {},
   "outputs": [
    {
     "name": "stderr",
     "output_type": "stream",
     "text": [
      "Map: 2 examples [00:00, 291.88 examples/s]       "
     ]
    },
    {
     "name": "stderr",
     "output_type": "stream",
     "text": [
      "\n",
      "Map: 1800 examples [00:00, 10590.13 examples/s]      "
     ]
    },
    {
     "name": "stdout",
     "output_type": "stream",
     "text": [
      "ad\n"
     ]
    },
    {
     "name": "stderr",
     "output_type": "stream",
     "text": [
      "\n"
     ]
    }
   ],
   "source": [
    "use_datasets_list = [\n",
    "    [\"../dataset/my_korean\", 900], \n",
    "    # [\"../dataset/my_race_middle\", 5000], \n",
    "    # [\"../dataset/my_race_high\", 2000], \n",
    "    # [\"../dataset/my_cloth\", 2100]\n",
    "    ]\n",
    "\n",
    "train_dataset = bd.concat_datasets(use_datasets_list, \"train\")\n",
    "# train_dataset = bd.build_dataset(\"../dataset/my_korean\", \"train\", 12)"
   ]
  },
  {
   "cell_type": "code",
   "execution_count": 24,
   "id": "63bdcb8a",
   "metadata": {},
   "outputs": [
    {
     "ename": "NameError",
     "evalue": "name 'train_dataset' is not defined",
     "output_type": "error",
     "traceback": [
      "\u001b[0;31m---------------------------------------------------------------------------\u001b[0m",
      "\u001b[0;31mNameError\u001b[0m                                 Traceback (most recent call last)",
      "Cell \u001b[0;32mIn[24], line 1\u001b[0m\n\u001b[0;32m----> 1\u001b[0m \u001b[43mtrain_dataset\u001b[49m\u001b[38;5;241m.\u001b[39mcleanup_cache_files()\n\u001b[1;32m      2\u001b[0m \u001b[38;5;28;01mdel\u001b[39;00m train_dataset\n",
      "\u001b[0;31mNameError\u001b[0m: name 'train_dataset' is not defined"
     ]
    }
   ],
   "source": [
    "train_dataset.cleanup_cache_files()\n",
    "del train_dataset"
   ]
  },
  {
   "cell_type": "code",
   "execution_count": 21,
   "id": "54e16b83",
   "metadata": {},
   "outputs": [
    {
     "name": "stdout",
     "output_type": "stream",
     "text": [
      "[{'content': \"You are a helpful AI assistant.\\nPlease answer the user's questions correctly.\\nLook for the evidence in the text when answering.\\nUnderlined replaced with highlights. Example: **Was Underline**\\nReturn only the letter corresponding to the best answer.\", 'role': 'system'}, {'content': '\\n[QUESTION]\\n글의 흐름으로 보아, 주어진 문장이 들어가기에 가장 적절한 곳을 고르시오.\\nBut neither are aware of this fact when it comes to unmarked crosswalks.\\n\\n[PASSAGE]\\nStudies do show that motorists are more likely to yield\\nto pedestrians in marked crosswalks than at unmarked\\ncrosswalks. But as some researchers found, that does not\\nnecessarily make things safer. ( ① ) When they compared\\nthe way pedestrians crossed at both kinds of crosswalks\\non roads with considerable traffic volumes, they found that\\npeople at unmarked crosswalks tended to look both ways\\nmore often, waited more often for gaps in traffic, and\\ncrossed the road more quickly. ( ② ) Researchers suspect\\nthat both drivers and pedestrians are more aware that\\ndrivers should yield to pedestrians in marked crosswalks.\\n( ③ ) Not knowing traffic safety laws, it turns out, is\\nactually a good thing for pedestrians. ( ④ ) Because they\\ndo not know whether cars are supposed to stop, they act\\nmore cautiously. ( ⑤ ) Marked crosswalks, by contrast,\\nmay give pedestrians an unrealistic picture of their own\\nsafety.\\n\\n[OPTIONS]\\nA. ①\\nB. ②\\nC. ③\\nD. ④\\nE. ⑤\\n\\n[ANSWER]\\n', 'role': 'user'}, {'content': 'C', 'role': 'assistant'}]\n"
     ]
    }
   ],
   "source": [
    "print(train_dataset[12][\"messages\"])"
   ]
  },
  {
   "cell_type": "code",
   "execution_count": 10,
   "id": "7c4e6930",
   "metadata": {},
   "outputs": [
    {
     "name": "stdout",
     "output_type": "stream",
     "text": [
      "==== raw sample ====\n",
      "{'messages': [{'content': \"You are a helpful AI assistant.\\nPlease answer the user's questions correctly.\\nLook for the evidence in the text when answering.\\nUnderlined replaced with highlights. Example: **Was Underline**\\nReturn only the letter corresponding to the best answer.\", 'role': 'system'}, {'content': '\\n[QUESTION]\\n다음 빈칸에 공통으로 들어갈 말로 가장 적절한 것을 고르시오.\\n\\n[PASSAGE]\\n◦ She has a big smile on her _ .\\n◦ You should learn to _ your problem.\\n\\n[OPTIONS]\\nA. face\\nB. heat\\nC. meet\\nD. walk\\n\\n[ANSWER]\\n', 'role': 'user'}, {'content': 'A', 'role': 'assistant'}]}\n",
      "\n",
      "==== prompt string ====\n",
      "<bos><start_of_turn>user\n",
      "You are a helpful AI assistant.\n",
      "Please answer the user's questions correctly.\n",
      "Look for the evidence in the text when answering.\n",
      "Underlined replaced with highlights. Example: **Was Underline**\n",
      "Return only the letter corresponding to the best answer.\n",
      "\n",
      "[QUESTION]\n",
      "다음 빈칸에 공통으로 들어갈 말로 가장 적절한 것을 고르시오.\n",
      "\n",
      "[PASSAGE]\n",
      "◦ She has a big smile on her _ .\n",
      "◦ You should learn to _ your problem.\n",
      "\n",
      "[OPTIONS]\n",
      "A. face\n",
      "B. heat\n",
      "C. meet\n",
      "D. walk\n",
      "\n",
      "[ANSWER]<end_of_turn>\n",
      "<start_of_turn>model\n",
      "A<end_of_turn>\n",
      "\n",
      "\n",
      "EOS count: 0\n",
      "BOS count: 1\n"
     ]
    }
   ],
   "source": [
    "# 1) 데이터셋에서 샘플 하나 꺼내기\n",
    "tokenizer = AutoTokenizer.from_pretrained(\"google/gemma-3-4b-it\")\n",
    "sample = train_dataset[2]\n",
    "print(\"==== raw sample ====\")\n",
    "print(sample)                 # messages 리스트가 제대로 들어 있는지 우선 확인\n",
    "\n",
    "# 2) 템플릿 적용 → 사람이 읽을 수 있는 문자열로\n",
    "prompt_str = tokenizer.apply_chat_template(\n",
    "    sample[\"messages\"],\n",
    "    tokenize=False,           # => 문자열\n",
    "    add_generation_prompt=False\n",
    ")\n",
    "print(\"\\n==== prompt string ====\")\n",
    "print(prompt_str)\n",
    "\n",
    "# 3) EOS/BOS 개수 세어 보기\n",
    "eos_tok = tokenizer.eos_token or \"<|eos|>\"\n",
    "bos_tok = tokenizer.bos_token or \"<bos>\"\n",
    "\n",
    "print(\"\\nEOS count:\", prompt_str.count(eos_tok))\n",
    "print(\"BOS count:\", prompt_str.count(bos_tok))\n"
   ]
  },
  {
   "cell_type": "code",
   "execution_count": 6,
   "id": "ffdd9031",
   "metadata": {},
   "outputs": [
    {
     "name": "stdout",
     "output_type": "stream",
     "text": [
      "[236776, 236799, 236780, 236796, 236788]\n"
     ]
    }
   ],
   "source": [
    "\n",
    "option_letters = [\"A\", \"B\", \"C\", \"D\", \"E\"]\n",
    "option_token_id = []\n",
    "\n",
    "for letter in option_letters:\n",
    "    id = tokenizer.encode(letter, add_special_tokens=False)\n",
    "    option_token_id.append(id[0])\n",
    "\n",
    "print(option_token_id)"
   ]
  }
 ],
 "metadata": {
  "kernelspec": {
   "display_name": "Python 3",
   "language": "python",
   "name": "python3"
  },
  "language_info": {
   "codemirror_mode": {
    "name": "ipython",
    "version": 3
   },
   "file_extension": ".py",
   "mimetype": "text/x-python",
   "name": "python",
   "nbconvert_exporter": "python",
   "pygments_lexer": "ipython3",
   "version": "3.10.18"
  }
 },
 "nbformat": 4,
 "nbformat_minor": 5
}
