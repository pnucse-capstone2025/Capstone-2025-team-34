{
 "cells": [
  {
   "cell_type": "code",
   "execution_count": null,
   "id": "412b452e",
   "metadata": {},
   "outputs": [
    {
     "name": "stderr",
     "output_type": "stream",
     "text": [
      "/home/nclabterm1/refresh/.conda/lib/python3.10/site-packages/tqdm/auto.py:21: TqdmWarning: IProgress not found. Please update jupyter and ipywidgets. See https://ipywidgets.readthedocs.io/en/stable/user_install.html\n",
      "  from .autonotebook import tqdm as notebook_tqdm\n"
     ]
    }
   ],
   "source": [
    "from datasets import load_from_disk, concatenate_datasets\n",
    "\n",
    "ds_korean = load_from_disk(\"../dataset/분류 모델 용/korean\")[\"test\"].select(range(1))\n",
    "ds_cloth = load_from_disk(\"../dataset/분류 모델 용/cloth\")[\"test\"].select(range(1))\n",
    "ds_race_middle_long = load_from_disk(\"../dataset/분류 모델 용/race_middle_long\")[\"test\"].select(range(1))\n",
    "ds_race_middle_short = load_from_disk(\"../dataset/분류 모델 용/race_middle_short\")[\"test\"].select(range(1))\n",
    "ds_race_high_long = load_from_disk(\"../dataset/분류 모델 용/race_high_long\")[\"test\"].select(range(1))\n",
    "ds_race_high_short = load_from_disk(\"../dataset/분류 모델 용/race_high_short\")[\"test\"].select(range(1))\n"
   ]
  },
  {
   "cell_type": "code",
   "execution_count": null,
   "id": "96e21427",
   "metadata": {},
   "outputs": [],
   "source": [
    "import sys\n",
    "sys.path.append('..')\n",
    "\n",
    "from huggingface_hub import login\n",
    "import torch\n",
    "import tqdm\n",
    "from transformers import AutoTokenizer, AutoModelForCausalLM, BitsAndBytesConfig\n",
    "from peft import LoraConfig, PeftModel\n",
    "from trl import SFTTrainer, SFTConfig\n",
    "import os"
   ]
  },
  {
   "cell_type": "code",
   "execution_count": null,
   "id": "55847404",
   "metadata": {},
   "outputs": [
    {
     "name": "stderr",
     "output_type": "stream",
     "text": [
      "Loading checkpoint shards: 100%|██████████| 2/2 [00:03<00:00,  1.92s/it]\n"
     ]
    }
   ],
   "source": [
    "from dotenv import load_dotenv\n",
    "\n",
    "load_dotenv()\n",
    "token = os.getenv(\"HUGGINGFACE_TOKEN\")\n",
    "model_id = \"./output/0\"\n",
    "base_model_id = \"microsoft/Phi-4-mini-instruct\"\n",
    "\n",
    "torch_dtype = torch.bfloat16\n",
    "\n",
    "login(token)\n",
    "\n",
    "model_kwargs = dict(\n",
    "    attn_implementation=\"eager\",\n",
    "    torch_dtype=torch_dtype, \n",
    "    device_map=\"auto\", \n",
    ")\n",
    "\n",
    "model_kwargs[\"quantization_config\"] = BitsAndBytesConfig(\n",
    "    load_in_4bit=True,\n",
    "    bnb_4bit_use_double_quant=True,\n",
    "    bnb_4bit_quant_type='nf4',\n",
    "    bnb_4bit_compute_dtype=model_kwargs['torch_dtype'],\n",
    "    bnb_4bit_quant_storage=model_kwargs['torch_dtype'],\n",
    ")\n",
    "\n",
    "args = SFTConfig(\n",
    "    output_dir=\"output/results\",         \n",
    "    packing=True,             \n",
    "    gradient_accumulation_steps=4,    \n",
    "    gradient_checkpointing=True,       \n",
    "    optim=\"adamw_torch_fused\",      \n",
    "    logging_steps=10,                   \n",
    "    save_strategy=\"epoch\",\n",
    "    fp16=True if torch_dtype == torch.float16 else False,  \n",
    "    bf16=True if torch_dtype == torch.bfloat16 else False, \n",
    "\n",
    "    #eval_strategy=\"epoch\",\n",
    "    #per_device_eval_batch_size=6,\n",
    "\n",
    "    lr_scheduler_type=\"constant\",         \n",
    "    push_to_hub=False,                     \n",
    "    report_to=\"tensorboard\",         \n",
    "    dataset_kwargs={\n",
    "        \"add_special_tokens\": False,\n",
    "        \"append_concat_token\": True,\n",
    "        }\n",
    ")\n",
    "\n",
    "tokenizer = AutoTokenizer.from_pretrained(base_model_id)\n",
    "base = AutoModelForCausalLM.from_pretrained(base_model_id, **model_kwargs)\n",
    "model = PeftModel.from_pretrained(base, model_id)"
   ]
  },
  {
   "cell_type": "code",
   "execution_count": null,
   "id": "8383825c",
   "metadata": {},
   "outputs": [],
   "source": [
    "import re\n",
    "import torch\n",
    "from transformers import StoppingCriteria, StoppingCriteriaList\n",
    "\n",
    "class StopOnAnswerIs(StoppingCriteria):\n",
    "    def __init__(self, tokenizer, pattern=r\"answer\\s*is\\s*:?\\s*$\", lookback_tokens=64):\n",
    "        super().__init__()\n",
    "        self.tokenizer = tokenizer\n",
    "        self.regex = re.compile(pattern, flags=re.IGNORECASE)\n",
    "        self.lookback = lookback_tokens\n",
    "\n",
    "    def __call__(self, input_ids: torch.LongTensor, scores: torch.FloatTensor, **kwargs) -> bool:\n",
    "        tail = input_ids[0, -self.lookback:].tolist()\n",
    "        text = self.tokenizer.decode(tail, skip_special_tokens=True)\n",
    "        return bool(self.regex.search(text))\n"
   ]
  },
  {
   "cell_type": "code",
   "execution_count": null,
   "id": "41ff3483",
   "metadata": {},
   "outputs": [
    {
     "name": "stderr",
     "output_type": "stream",
     "text": [
      "The attention mask is not set and cannot be inferred from input because pad token is same as eos token. As a consequence, you may observe unexpected behavior. Please pass your input's `attention_mask` to obtain reliable results.\n"
     ]
    },
    {
     "name": "stdout",
     "output_type": "stream",
     "text": [
      "[{'role': 'system', 'content': \"You are a helpful assistant.\\nProvide reasoning only (no mention or hints about options).\\nAt the very end, output exactly: 'answer is X' where X is one of A,B,C,D,E.\\nThe phrase 'answer is' must appear once, in lowercase, and only on the final line.\\nDo not reveal or imply the answer prior to that final line.\"}, {'role': 'user', 'content': '\\n[QUESTION]\\n다음 글의 요지로 가장 적절한 것은?\\n\\n[PASSAGE]\\nPeople sometimes make downward social comparisons ―\\ncomparing themselves to inferior or worse-off others ― to feel\\nbetter about themselves. This is self-enhancement at work.\\nBut what happens when the only available comparison target\\nwe have is superior or better off than we are? Can\\nself-enhancement motives still be served in such situations?\\nYes, they can, as captured by the self-evaluation maintenance\\nmodel. According to this theory, we shift between two\\nprocesses ― reflection and comparison ― in a way that lets us\\nmaintain favorable self-views. In areas that are not especially\\nrelevant to our self-definition, we engage in reflection,\\nwhereby we flatter ourselves by association with others’\\naccomplishments. Suppose you care very little about your\\nown athletic skills, but when your friend scores the winning\\ngoal during a critical soccer match, you beam with pride,\\nexperience a boost to your self-esteem, and take delight in\\nher victory celebrations as if, by association, it were your\\nvictory too.\\n\\n\\n[OPTIONS]\\nA. 타인과의 비교를 통해 자신에 대한 객관적 평가를 할 수 있다.\\nB. 자기 분야와 관련 없는 사람들의 성공도 축하해 줄 필요가 있다.\\nC. 성취도가 낮은 사람들과의 비교는 자기발전에 도움이 되지 않는다.\\nD. 사람들은 성취도가 높은 사람과 자신을 비교하지 않는 경향이 있다.\\nE. 타인의 성취를 자신과 연결하여 긍정적인 자아상을 유지할 수 있다.\\n\\n[ANSWER]\\n'}]\n",
      "=== GENERATED UNTIL STOP ===\n",
      "The passage discusses how people maintain favorable self-views through comparison and reflection, even when the comparison targets are superior. The example given explains how associating with a friend's success, even in a field not directly relevant to one's own, can boost self-esteem. This process is described as maintaining a positive self-concept by connecting with others' achievements. The option that best captures this idea, emphasizing the connection between another's success and one's own self-perception, is the most fitting summary.\n",
      "\n",
      "answer is\n",
      "\n",
      "=== NEXT-TOKEN SCORES AFTER 'answer is' ===\n",
      "A: logit=+22.3750, logprob=-9.5000, prob=0.0001\n",
      "B: logit=+21.6250, logprob=-10.2500, prob=0.0000\n",
      "C: logit=+21.1250, logprob=-10.7500, prob=0.0000\n",
      "D: logit=+20.5000, logprob=-11.3750, prob=0.0000\n",
      "E: logit=+31.8750, logprob=-0.0001, prob=1.0000\n",
      "\n",
      "Predicted letter: E\n",
      "Real answer is: {'role': 'assistant', 'content': 'E'}\n"
     ]
    }
   ],
   "source": [
    "import build_dataset as bd\n",
    "\n",
    "device = next(model.parameters()).device \n",
    "\n",
    "def safe_letter_token_id(tokenizer, letter: str) -> int:\n",
    "    vocab = tokenizer.get_vocab()\n",
    "    letter = letter.upper()\n",
    "    for tok in (f\"▁{letter}\", f\" {letter}\", letter):\n",
    "        if tok in vocab:\n",
    "            return vocab[tok]\n",
    "    ids = tokenizer.encode(f\" {letter}\", add_special_tokens=False)\n",
    "    if len(ids) == 1:\n",
    "        return ids[0]"
   ]
  },
  {
   "cell_type": "code",
   "execution_count": 6,
   "id": "35b7cfdb",
   "metadata": {},
   "outputs": [],
   "source": [
    "def extract_gold_letter(ex):\n",
    "    return ex[\"content\"]"
   ]
  },
  {
   "cell_type": "code",
   "execution_count": null,
   "id": "f5db0d42",
   "metadata": {},
   "outputs": [],
   "source": [
    "import re, json, datetime\n",
    "from tqdm.auto import tqdm\n",
    "import torch\n",
    "from transformers import StoppingCriteria, StoppingCriteriaList\n",
    "\n",
    "def evaluate_until_answer_is(\n",
    "    ds,\n",
    "    ds_name,\n",
    "    bd,                    \n",
    "    model,\n",
    "    tokenizer,\n",
    "    max_items=None,\n",
    "    do_sample=False,       \n",
    "    temperature=0.7,\n",
    "    top_p=0.9,\n",
    "    lookback_tokens=64,\n",
    "    save_results=True,\n",
    "):\n",
    "    device = next(model.parameters()).device\n",
    "    model.eval()\n",
    "\n",
    "    stopper = StoppingCriteriaList([StopOnAnswerIs(tokenizer, lookback_tokens=lookback_tokens)])\n",
    "    option_letters = ['A', 'B', 'C', 'D', 'E']\n",
    "    option_token_ids = [safe_letter_token_id(tokenizer, L) for L in option_letters]\n",
    "\n",
    "    N = len(ds) if max_items is None else min(max_items, len(ds))\n",
    "    correct = 0\n",
    "    evaluated = 0\n",
    "    stopped_cnt = 0\n",
    "    skipped_cnt = 0\n",
    "    results = []\n",
    "\n",
    "    pbar = tqdm(range(N))\n",
    "    for i in pbar:\n",
    "\n",
    "        item = ds[i]\n",
    "        item = bd.create_conversation_for_test(item)\n",
    "        msgs = item['messages'][:2]\n",
    "        gold = extract_gold_letter(item['messages'][2])\n",
    "\n",
    "        prompt_ids = tokenizer.apply_chat_template(\n",
    "            msgs, add_generation_prompt=True, return_tensors=\"pt\"\n",
    "        ).to(device)\n",
    "\n",
    "        gen_out = model.generate(\n",
    "            prompt_ids,\n",
    "            max_new_tokens=256,\n",
    "            do_sample=do_sample,\n",
    "            temperature=temperature if do_sample else None,\n",
    "            top_p=top_p if do_sample else None,\n",
    "            stopping_criteria=stopper,\n",
    "            return_dict_in_generate=True,\n",
    "            use_cache=True,\n",
    "        )\n",
    "        seq = gen_out.sequences \n",
    "        gen_text = tokenizer.decode(seq[0, prompt_ids.shape[1]:], skip_special_tokens=True)\n",
    "        \n",
    "        is_skipped = False\n",
    "\n",
    "        if not re.search(r\"answer\\s*is\\s*:?\\s*$\", gen_text.strip(), re.IGNORECASE):\n",
    "            skipped_cnt += 1\n",
    "            is_skipped = True\n",
    "        \n",
    "        if is_skipped == False:\n",
    "            stopped_cnt += 1\n",
    "\n",
    "        with torch.inference_mode():\n",
    "            out2 = model(seq.to(device))\n",
    "            next_logits = out2.logits[:, -1, :].squeeze(0) \n",
    "\n",
    "        option_logits = next_logits[option_token_ids]          \n",
    "        option_logprobs = torch.log_softmax(option_logits, dim=0)  \n",
    "        option_probs = torch.softmax(option_logits, dim=0)       \n",
    "\n",
    "        probs = option_probs.detach().cpu().float().tolist()\n",
    "        pred_idx = int(torch.argmax(option_probs).item())\n",
    "        pred = option_letters[pred_idx]\n",
    "\n",
    "        if is_skipped == False:\n",
    "            evaluated += 1\n",
    "            \n",
    "        is_correct = (pred == gold)\n",
    "\n",
    "        if is_skipped == False:\n",
    "            correct += int(is_correct)\n",
    "\n",
    "        results.append({\n",
    "            \"index\": i,\n",
    "            \"generated_until_stop\": gen_text,\n",
    "            \"pred\": pred,\n",
    "            \"probs\": {L: float(p) for L, p in zip(option_letters, probs)},\n",
    "            \"gold\": gold,\n",
    "            \"is_correct\": is_correct,\n",
    "            \"is_skipped\": is_skipped\n",
    "        })\n",
    "\n",
    "        pbar.set_postfix(\n",
    "            acc=f\"{(correct/max(1,evaluated))*100:.2f}%\",\n",
    "            stopped=stopped_cnt,\n",
    "            skipped=skipped_cnt\n",
    "        )\n",
    "\n",
    "    final = {\n",
    "        \"model_id\": getattr(model.config, \"name_or_path\", \"unknown\"),\n",
    "        \"num_items_total\": N,\n",
    "        \"num_evaluated\": evaluated,\n",
    "        \"num_stopped\": stopped_cnt,\n",
    "        \"num_skipped\": skipped_cnt,\n",
    "        \"accuracy_no_skipped\": f\"{(correct/max(1,evaluated))*100:.2f}%\",\n",
    "        \"results\": results\n",
    "    }\n",
    "\n",
    "    if save_results:\n",
    "        ts = datetime.datetime.now().strftime(\"%Y%m%d_%H%M%S\")\n",
    "        path = f\"./eval/results_{ds_name}_{ts}.json\"\n",
    "        os.makedirs(os.path.dirname(path), exist_ok=True)\n",
    "        with open(path, \"w\", encoding=\"utf-8\") as f:\n",
    "            json.dump(final, f, ensure_ascii=False, indent=2)\n",
    "        print(f\"\\nSaved: {path}\")\n",
    "\n",
    "    print(f\"\\nEvaluated {evaluated}/{N} (stopped={stopped_cnt}, skipped={skipped_cnt})\")\n",
    "    print(f\"Accuracy: {final['accuracy_no_skipped']}\")\n",
    "    return final"
   ]
  },
  {
   "cell_type": "code",
   "execution_count": 8,
   "id": "95faed01",
   "metadata": {},
   "outputs": [],
   "source": [
    "ds = [ds_korean, ds_cloth, ds_race_middle_long, ds_race_middle_short, ds_race_high_long, ds_race_high_short]\n",
    "ds_name = [\"ds_korean\", \"ds_cloth\", \"ds_race_middle_long\", \"ds_race_middle_short\", \"ds_race_high_long\", \"ds_race_high_short\"]"
   ]
  },
  {
   "cell_type": "code",
   "execution_count": 9,
   "id": "9ef62210",
   "metadata": {},
   "outputs": [
    {
     "name": "stderr",
     "output_type": "stream",
     "text": [
      "100%|██████████| 124/124 [16:32<00:00,  8.00s/it, acc=77.78%, skipped=7, stopped=117]\n"
     ]
    },
    {
     "name": "stdout",
     "output_type": "stream",
     "text": [
      "\n",
      "Saved: ./eval/results_ds_korean_20250908_195643.json\n",
      "\n",
      "Evaluated 117/124 (stopped=117, skipped=7)\n",
      "Accuracy: 77.78%\n"
     ]
    },
    {
     "name": "stderr",
     "output_type": "stream",
     "text": [
      "100%|██████████| 2000/2000 [3:44:19<00:00,  6.73s/it, acc=66.60%, skipped=6, stopped=1994]  \n"
     ]
    },
    {
     "name": "stdout",
     "output_type": "stream",
     "text": [
      "\n",
      "Saved: ./eval/results_ds_cloth_20250908_234103.json\n",
      "\n",
      "Evaluated 1994/2000 (stopped=1994, skipped=6)\n",
      "Accuracy: 66.60%\n"
     ]
    },
    {
     "name": "stderr",
     "output_type": "stream",
     "text": [
      "100%|██████████| 772/772 [1:39:09<00:00,  7.71s/it, acc=69.48%, skipped=25, stopped=747]\n"
     ]
    },
    {
     "name": "stdout",
     "output_type": "stream",
     "text": [
      "\n",
      "Saved: ./eval/results_ds_race_middle_long_20250909_012013.json\n",
      "\n",
      "Evaluated 747/772 (stopped=747, skipped=25)\n",
      "Accuracy: 69.48%\n"
     ]
    },
    {
     "name": "stderr",
     "output_type": "stream",
     "text": [
      "100%|██████████| 664/664 [1:15:12<00:00,  6.80s/it, acc=70.99%, skipped=16, stopped=648]\n"
     ]
    },
    {
     "name": "stdout",
     "output_type": "stream",
     "text": [
      "\n",
      "Saved: ./eval/results_ds_race_middle_short_20250909_023526.json\n",
      "\n",
      "Evaluated 648/664 (stopped=648, skipped=16)\n",
      "Accuracy: 70.99%\n"
     ]
    },
    {
     "name": "stderr",
     "output_type": "stream",
     "text": [
      "100%|██████████| 1686/1686 [3:57:44<00:00,  8.46s/it, acc=61.61%, skipped=71, stopped=1615]  \n"
     ]
    },
    {
     "name": "stdout",
     "output_type": "stream",
     "text": [
      "\n",
      "Saved: ./eval/results_ds_race_high_long_20250909_063310.json\n",
      "\n",
      "Evaluated 1615/1686 (stopped=1615, skipped=71)\n",
      "Accuracy: 61.61%\n"
     ]
    },
    {
     "name": "stderr",
     "output_type": "stream",
     "text": [
      "100%|██████████| 1812/1812 [4:06:30<00:00,  8.16s/it, acc=67.62%, skipped=67, stopped=1745]  "
     ]
    },
    {
     "name": "stdout",
     "output_type": "stream",
     "text": [
      "\n",
      "Saved: ./eval/results_ds_race_high_short_20250909_103941.json\n",
      "\n",
      "Evaluated 1745/1812 (stopped=1745, skipped=67)\n",
      "Accuracy: 67.62%\n"
     ]
    },
    {
     "name": "stderr",
     "output_type": "stream",
     "text": [
      "\n"
     ]
    }
   ],
   "source": [
    "for i in range(6):\n",
    "    evaluate_until_answer_is(\n",
    "        ds[i],\n",
    "        ds_name[i],\n",
    "        bd,\n",
    "        model,\n",
    "        tokenizer,\n",
    "        max_items=None,  \n",
    "        do_sample=False,   \n",
    "        save_results=True,\n",
    "    )"
   ]
  },
  {
   "cell_type": "code",
   "execution_count": null,
   "id": "25d5113b",
   "metadata": {},
   "outputs": [],
   "source": [
    "import json\n",
    "from pathlib import Path\n",
    "\n",
    "IN_DIR = Path(\"./eval\")\n",
    "OUT1 = Path(\"./eval_1\")\n",
    "OUT2 = Path(\"./eval_2\")\n",
    "OUT1.mkdir(parents=True, exist_ok=True)\n",
    "OUT2.mkdir(parents=True, exist_ok=True)\n",
    "\n",
    "def recalc_stats(data: dict, new_results: list) -> dict:\n",
    "    d = dict(data)\n",
    "    n_total = len(new_results)\n",
    "    n_skipped = sum(1 for r in new_results if r.get(\"is_skipped\", False))\n",
    "    n_eval = n_total - n_skipped\n",
    "    n_stopped = n_eval\n",
    "\n",
    "    n_correct = sum(\n",
    "        1 for r in new_results\n",
    "        if not r.get(\"is_skipped\", False) and r.get(\"is_correct\", False)\n",
    "    )\n",
    "    acc = f\"{(n_correct / n_eval) * 100:.2f}%\" if n_eval > 0 else \"0.00%\"\n",
    "\n",
    "    d[\"results\"] = new_results\n",
    "    d[\"num_items_total\"] = n_total\n",
    "    d[\"num_evaluated\"] = n_eval\n",
    "    d[\"num_stopped\"] = n_stopped\n",
    "    d[\"num_skipped\"] = n_skipped\n",
    "    d[\"accuracy_no_skipped\"] = acc\n",
    "    return d\n",
    "\n",
    "def count_metrics(results: list):\n",
    "    n_total = len(results)\n",
    "    n_skipped = sum(1 for r in results if r.get(\"is_skipped\", False))\n",
    "    n_eval = n_total - n_skipped\n",
    "    n_correct_excl_skip = sum(\n",
    "        1 for r in results\n",
    "        if not r.get(\"is_skipped\", False) and r.get(\"is_correct\", False)\n",
    "    )\n",
    "    acc_excl = (n_correct_excl_skip / n_eval * 100) if n_eval > 0 else 0.0\n",
    "    acc_incl = (n_correct_excl_skip / n_total * 100) if n_total > 0 else 0.0\n",
    "    return {\n",
    "        \"correct_excl\": n_correct_excl_skip,\n",
    "        \"eval_cnt\": n_eval,\n",
    "        \"total_cnt\": n_total,\n",
    "        \"skipped\": n_skipped,\n",
    "        \"acc_excl\": acc_excl,\n",
    "        \"acc_incl\": acc_incl,\n",
    "    }\n",
    "\n",
    "processed = []\n",
    "\n",
    "agg_1 = {\"correct_excl\": 0, \"eval_cnt\": 0, \"total_cnt\": 0, \"skipped\": 0}\n",
    "agg_2 = {\"correct_excl\": 0, \"eval_cnt\": 0, \"total_cnt\": 0, \"skipped\": 0}\n",
    "\n",
    "for path in sorted(IN_DIR.glob(\"*.json\")):\n",
    "    with path.open(\"r\", encoding=\"utf-8\") as f:\n",
    "        data = json.load(f)\n",
    "\n",
    "    results = data.get(\"results\", [])\n",
    "    n = len(results)\n",
    "\n",
    "    n_front = n // 2\n",
    "    front = results[:n_front]\n",
    "    back = results[n_front:] \n",
    "\n",
    "    data_front = recalc_stats(data, front)\n",
    "    data_back = recalc_stats(data, back)\n",
    "\n",
    "    out1 = OUT1 / path.name\n",
    "    out2 = OUT2 / path.name\n",
    "\n",
    "    with out1.open(\"w\", encoding=\"utf-8\") as f:\n",
    "        json.dump(data_front, f, ensure_ascii=False, indent=2)\n",
    "    with out2.open(\"w\", encoding=\"utf-8\") as f:\n",
    "        json.dump(data_back, f, ensure_ascii=False, indent=2)\n",
    "\n",
    "    m1 = count_metrics(front)\n",
    "    m2 = count_metrics(back)\n",
    "\n",
    "    processed.append((\n",
    "        path.name,\n",
    "        len(front), len(back),\n",
    "        f\"{m1['acc_excl']:.2f}%\", f\"{m2['acc_excl']:.2f}%\",  \n",
    "        f\"{m1['acc_incl']:.2f}%\", f\"{m2['acc_incl']:.2f}%\", \n",
    "    ))\n",
    "\n",
    "    for k in agg_1: agg_1[k] += m1[k]\n",
    "    for k in agg_2: agg_2[k] += m2[k]\n",
    "\n",
    "for name, nf, nb, accf_ex, accb_ex, accf_in, accb_in in processed:\n",
    "    print(\n",
    "        f\"{name}: \"\n",
    "        f\"eval_1(front)={nf}개 acc_excl_skip={accf_ex} | acc_incl_skip={accf_in}  ||  \"\n",
    "        f\"eval_2(back)={nb}개 acc_excl_skip={accb_ex} | acc_incl_skip={accb_in}\"\n",
    "    )\n",
    "\n",
    "def pretty_overall(agg):\n",
    "    acc_excl = (agg[\"correct_excl\"] / agg[\"eval_cnt\"] * 100) if agg[\"eval_cnt\"] > 0 else 0.0\n",
    "    acc_incl = (agg[\"correct_excl\"] / agg[\"total_cnt\"] * 100) if agg[\"total_cnt\"] > 0 else 0.0\n",
    "    return acc_excl, acc_incl\n",
    "\n",
    "acc1_ex, acc1_in = pretty_overall(agg_1)\n",
    "acc2_ex, acc2_in = pretty_overall(agg_2)\n",
    "\n",
    "print(f\"eval_1(front): \"\n",
    "      f\"correct={agg_1['correct_excl']}, \"\n",
    "      f\"eval={agg_1['eval_cnt']}, total={agg_1['total_cnt']}, skipped={agg_1['skipped']} -> \"\n",
    "      f\"acc_excl_skip={acc1_ex:.2f}% | acc_incl_skip={acc1_in:.2f}%\")\n",
    "print(f\"eval_2(back) : \"\n",
    "      f\"correct={agg_2['correct_excl']}, \"\n",
    "      f\"eval={agg_2['eval_cnt']}, total={agg_2['total_cnt']}, skipped={agg_2['skipped']} -> \"\n",
    "      f\"acc_excl_skip={acc2_ex:.2f}% | acc_incl_skip={acc2_in:.2f}%\")\n",
    "\n",
    "def peek(dir_name: str, file_name: str):\n",
    "    p = Path(dir_name) / file_name\n",
    "    with p.open(\"r\", encoding=\"utf-8\") as f:\n",
    "        d = json.load(f)\n",
    "    head = {k: d[k] for k in [\"model_id\", \"num_items_total\", \"num_evaluated\", \"num_stopped\", \"num_skipped\", \"accuracy_no_skipped\"] if k in d}\n",
    "    print(p, \"->\", head)\n"
   ]
  }
 ],
 "metadata": {
  "kernelspec": {
   "display_name": "Python 3",
   "language": "python",
   "name": "python3"
  },
  "language_info": {
   "codemirror_mode": {
    "name": "ipython",
    "version": 3
   },
   "file_extension": ".py",
   "mimetype": "text/x-python",
   "name": "python",
   "nbconvert_exporter": "python",
   "pygments_lexer": "ipython3",
   "version": "3.10.18"
  }
 },
 "nbformat": 4,
 "nbformat_minor": 5
}
